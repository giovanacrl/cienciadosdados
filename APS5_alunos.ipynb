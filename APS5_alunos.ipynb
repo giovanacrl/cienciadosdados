{
 "cells": [
  {
   "cell_type": "markdown",
   "metadata": {},
   "source": [
    "# APS 5 - Questões com auxílio do Pandas"
   ]
  },
  {
   "cell_type": "markdown",
   "metadata": {},
   "source": [
    "** Nome: ** <font color=blue> Giovana Lemes </font>\n"
   ]
  },
  {
   "cell_type": "markdown",
   "metadata": {},
   "source": [
    "APS **INDIVIDUAL**\n",
    "\n",
    "Data de Entrega: 26/Set até às 23h59 via GitHub.\n",
    "\n",
    "Vamos trabalhar com dados do USGS (United States Geological Survey) para tentar determinar se os abalos detectados no hemisfério Norte têm grande probabilidade de serem testes nucleares."
   ]
  },
  {
   "cell_type": "code",
   "execution_count": 1,
   "metadata": {
    "collapsed": true
   },
   "outputs": [],
   "source": [
    "%matplotlib inline\n",
    "import pandas as pd\n",
    "import numpy as np\n",
    "import matplotlib.pyplot as plt\n",
    "import scipy.stats as stats"
   ]
  },
  {
   "cell_type": "code",
   "execution_count": 2,
   "metadata": {},
   "outputs": [
    {
     "name": "stdout",
     "output_type": "stream",
     "text": [
      "['Date', 'Time', 'Latitude', 'Longitude', 'Type', 'Depth', 'Depth Error', 'Depth Seismic Stations', 'Magnitude', 'Magnitude Type', 'Magnitude Error', 'Magnitude Seismic Stations', 'Azimuthal Gap', 'Horizontal Distance', 'Horizontal Error', 'Root Mean Square', 'ID', 'Source', 'Location Source', 'Magnitude Source', 'Status']\n"
     ]
    }
   ],
   "source": [
    "#Abrir o arquivo\n",
    "df = pd.read_csv('earthquake.csv')\n",
    "#listar colunas\n",
    "print(list(df))"
   ]
  },
  {
   "cell_type": "markdown",
   "metadata": {},
   "source": [
    "## Liste as primeiras linhas do DataFrame"
   ]
  },
  {
   "cell_type": "code",
   "execution_count": 3,
   "metadata": {},
   "outputs": [
    {
     "data": {
      "text/html": [
       "<div>\n",
       "<style>\n",
       "    .dataframe thead tr:only-child th {\n",
       "        text-align: right;\n",
       "    }\n",
       "\n",
       "    .dataframe thead th {\n",
       "        text-align: left;\n",
       "    }\n",
       "\n",
       "    .dataframe tbody tr th {\n",
       "        vertical-align: top;\n",
       "    }\n",
       "</style>\n",
       "<table border=\"1\" class=\"dataframe\">\n",
       "  <thead>\n",
       "    <tr style=\"text-align: right;\">\n",
       "      <th></th>\n",
       "      <th>Date</th>\n",
       "      <th>Time</th>\n",
       "      <th>Latitude</th>\n",
       "      <th>Longitude</th>\n",
       "      <th>Type</th>\n",
       "      <th>Depth</th>\n",
       "      <th>Depth Error</th>\n",
       "      <th>Depth Seismic Stations</th>\n",
       "      <th>Magnitude</th>\n",
       "      <th>Magnitude Type</th>\n",
       "      <th>...</th>\n",
       "      <th>Magnitude Seismic Stations</th>\n",
       "      <th>Azimuthal Gap</th>\n",
       "      <th>Horizontal Distance</th>\n",
       "      <th>Horizontal Error</th>\n",
       "      <th>Root Mean Square</th>\n",
       "      <th>ID</th>\n",
       "      <th>Source</th>\n",
       "      <th>Location Source</th>\n",
       "      <th>Magnitude Source</th>\n",
       "      <th>Status</th>\n",
       "    </tr>\n",
       "  </thead>\n",
       "  <tbody>\n",
       "    <tr>\n",
       "      <th>0</th>\n",
       "      <td>01/02/1965</td>\n",
       "      <td>13:44:18</td>\n",
       "      <td>19.246</td>\n",
       "      <td>145.616</td>\n",
       "      <td>Earthquake</td>\n",
       "      <td>131.6</td>\n",
       "      <td>NaN</td>\n",
       "      <td>NaN</td>\n",
       "      <td>6.0</td>\n",
       "      <td>MW</td>\n",
       "      <td>...</td>\n",
       "      <td>NaN</td>\n",
       "      <td>NaN</td>\n",
       "      <td>NaN</td>\n",
       "      <td>NaN</td>\n",
       "      <td>NaN</td>\n",
       "      <td>ISCGEM860706</td>\n",
       "      <td>ISCGEM</td>\n",
       "      <td>ISCGEM</td>\n",
       "      <td>ISCGEM</td>\n",
       "      <td>Automatic</td>\n",
       "    </tr>\n",
       "    <tr>\n",
       "      <th>1</th>\n",
       "      <td>01/04/1965</td>\n",
       "      <td>11:29:49</td>\n",
       "      <td>1.863</td>\n",
       "      <td>127.352</td>\n",
       "      <td>Earthquake</td>\n",
       "      <td>80.0</td>\n",
       "      <td>NaN</td>\n",
       "      <td>NaN</td>\n",
       "      <td>5.8</td>\n",
       "      <td>MW</td>\n",
       "      <td>...</td>\n",
       "      <td>NaN</td>\n",
       "      <td>NaN</td>\n",
       "      <td>NaN</td>\n",
       "      <td>NaN</td>\n",
       "      <td>NaN</td>\n",
       "      <td>ISCGEM860737</td>\n",
       "      <td>ISCGEM</td>\n",
       "      <td>ISCGEM</td>\n",
       "      <td>ISCGEM</td>\n",
       "      <td>Automatic</td>\n",
       "    </tr>\n",
       "    <tr>\n",
       "      <th>2</th>\n",
       "      <td>01/05/1965</td>\n",
       "      <td>18:05:58</td>\n",
       "      <td>-20.579</td>\n",
       "      <td>-173.972</td>\n",
       "      <td>Earthquake</td>\n",
       "      <td>20.0</td>\n",
       "      <td>NaN</td>\n",
       "      <td>NaN</td>\n",
       "      <td>6.2</td>\n",
       "      <td>MW</td>\n",
       "      <td>...</td>\n",
       "      <td>NaN</td>\n",
       "      <td>NaN</td>\n",
       "      <td>NaN</td>\n",
       "      <td>NaN</td>\n",
       "      <td>NaN</td>\n",
       "      <td>ISCGEM860762</td>\n",
       "      <td>ISCGEM</td>\n",
       "      <td>ISCGEM</td>\n",
       "      <td>ISCGEM</td>\n",
       "      <td>Automatic</td>\n",
       "    </tr>\n",
       "    <tr>\n",
       "      <th>3</th>\n",
       "      <td>01/08/1965</td>\n",
       "      <td>18:49:43</td>\n",
       "      <td>-59.076</td>\n",
       "      <td>-23.557</td>\n",
       "      <td>Earthquake</td>\n",
       "      <td>15.0</td>\n",
       "      <td>NaN</td>\n",
       "      <td>NaN</td>\n",
       "      <td>5.8</td>\n",
       "      <td>MW</td>\n",
       "      <td>...</td>\n",
       "      <td>NaN</td>\n",
       "      <td>NaN</td>\n",
       "      <td>NaN</td>\n",
       "      <td>NaN</td>\n",
       "      <td>NaN</td>\n",
       "      <td>ISCGEM860856</td>\n",
       "      <td>ISCGEM</td>\n",
       "      <td>ISCGEM</td>\n",
       "      <td>ISCGEM</td>\n",
       "      <td>Automatic</td>\n",
       "    </tr>\n",
       "    <tr>\n",
       "      <th>4</th>\n",
       "      <td>01/09/1965</td>\n",
       "      <td>13:32:50</td>\n",
       "      <td>11.938</td>\n",
       "      <td>126.427</td>\n",
       "      <td>Earthquake</td>\n",
       "      <td>15.0</td>\n",
       "      <td>NaN</td>\n",
       "      <td>NaN</td>\n",
       "      <td>5.8</td>\n",
       "      <td>MW</td>\n",
       "      <td>...</td>\n",
       "      <td>NaN</td>\n",
       "      <td>NaN</td>\n",
       "      <td>NaN</td>\n",
       "      <td>NaN</td>\n",
       "      <td>NaN</td>\n",
       "      <td>ISCGEM860890</td>\n",
       "      <td>ISCGEM</td>\n",
       "      <td>ISCGEM</td>\n",
       "      <td>ISCGEM</td>\n",
       "      <td>Automatic</td>\n",
       "    </tr>\n",
       "  </tbody>\n",
       "</table>\n",
       "<p>5 rows × 21 columns</p>\n",
       "</div>"
      ],
      "text/plain": [
       "         Date      Time  Latitude  Longitude        Type  Depth  Depth Error  \\\n",
       "0  01/02/1965  13:44:18    19.246    145.616  Earthquake  131.6          NaN   \n",
       "1  01/04/1965  11:29:49     1.863    127.352  Earthquake   80.0          NaN   \n",
       "2  01/05/1965  18:05:58   -20.579   -173.972  Earthquake   20.0          NaN   \n",
       "3  01/08/1965  18:49:43   -59.076    -23.557  Earthquake   15.0          NaN   \n",
       "4  01/09/1965  13:32:50    11.938    126.427  Earthquake   15.0          NaN   \n",
       "\n",
       "   Depth Seismic Stations  Magnitude Magnitude Type    ...      \\\n",
       "0                     NaN        6.0             MW    ...       \n",
       "1                     NaN        5.8             MW    ...       \n",
       "2                     NaN        6.2             MW    ...       \n",
       "3                     NaN        5.8             MW    ...       \n",
       "4                     NaN        5.8             MW    ...       \n",
       "\n",
       "   Magnitude Seismic Stations  Azimuthal Gap  Horizontal Distance  \\\n",
       "0                         NaN            NaN                  NaN   \n",
       "1                         NaN            NaN                  NaN   \n",
       "2                         NaN            NaN                  NaN   \n",
       "3                         NaN            NaN                  NaN   \n",
       "4                         NaN            NaN                  NaN   \n",
       "\n",
       "   Horizontal Error  Root Mean Square            ID  Source Location Source  \\\n",
       "0               NaN               NaN  ISCGEM860706  ISCGEM          ISCGEM   \n",
       "1               NaN               NaN  ISCGEM860737  ISCGEM          ISCGEM   \n",
       "2               NaN               NaN  ISCGEM860762  ISCGEM          ISCGEM   \n",
       "3               NaN               NaN  ISCGEM860856  ISCGEM          ISCGEM   \n",
       "4               NaN               NaN  ISCGEM860890  ISCGEM          ISCGEM   \n",
       "\n",
       "  Magnitude Source     Status  \n",
       "0           ISCGEM  Automatic  \n",
       "1           ISCGEM  Automatic  \n",
       "2           ISCGEM  Automatic  \n",
       "3           ISCGEM  Automatic  \n",
       "4           ISCGEM  Automatic  \n",
       "\n",
       "[5 rows x 21 columns]"
      ]
     },
     "execution_count": 3,
     "metadata": {},
     "output_type": "execute_result"
    }
   ],
   "source": [
    "df.head()"
   ]
  },
  {
   "cell_type": "markdown",
   "metadata": {},
   "source": [
    "## Q1 - Manipulando o DataFrame\n",
    "\n",
    "Crie uma coluna chamada `Hemisfério` baseada na Latitude\n",
    "\n",
    "A regra de formação é a seguinte:\n",
    "\n",
    "Valor | Critério\n",
    "---|---\n",
    "Norte | Latitude positiva\n",
    "Sul | Latitude negativa"
   ]
  },
  {
   "cell_type": "code",
   "execution_count": 4,
   "metadata": {},
   "outputs": [
    {
     "data": {
      "text/html": [
       "<div>\n",
       "<style>\n",
       "    .dataframe thead tr:only-child th {\n",
       "        text-align: right;\n",
       "    }\n",
       "\n",
       "    .dataframe thead th {\n",
       "        text-align: left;\n",
       "    }\n",
       "\n",
       "    .dataframe tbody tr th {\n",
       "        vertical-align: top;\n",
       "    }\n",
       "</style>\n",
       "<table border=\"1\" class=\"dataframe\">\n",
       "  <thead>\n",
       "    <tr style=\"text-align: right;\">\n",
       "      <th></th>\n",
       "      <th>Date</th>\n",
       "      <th>Time</th>\n",
       "      <th>Latitude</th>\n",
       "      <th>Longitude</th>\n",
       "      <th>Type</th>\n",
       "      <th>Depth</th>\n",
       "      <th>Depth Error</th>\n",
       "      <th>Depth Seismic Stations</th>\n",
       "      <th>Magnitude</th>\n",
       "      <th>Magnitude Type</th>\n",
       "      <th>...</th>\n",
       "      <th>Azimuthal Gap</th>\n",
       "      <th>Horizontal Distance</th>\n",
       "      <th>Horizontal Error</th>\n",
       "      <th>Root Mean Square</th>\n",
       "      <th>ID</th>\n",
       "      <th>Source</th>\n",
       "      <th>Location Source</th>\n",
       "      <th>Magnitude Source</th>\n",
       "      <th>Status</th>\n",
       "      <th>Hemisfério</th>\n",
       "    </tr>\n",
       "  </thead>\n",
       "  <tbody>\n",
       "    <tr>\n",
       "      <th>0</th>\n",
       "      <td>01/02/1965</td>\n",
       "      <td>13:44:18</td>\n",
       "      <td>19.246</td>\n",
       "      <td>145.616</td>\n",
       "      <td>Earthquake</td>\n",
       "      <td>131.6</td>\n",
       "      <td>NaN</td>\n",
       "      <td>NaN</td>\n",
       "      <td>6.0</td>\n",
       "      <td>MW</td>\n",
       "      <td>...</td>\n",
       "      <td>NaN</td>\n",
       "      <td>NaN</td>\n",
       "      <td>NaN</td>\n",
       "      <td>NaN</td>\n",
       "      <td>ISCGEM860706</td>\n",
       "      <td>ISCGEM</td>\n",
       "      <td>ISCGEM</td>\n",
       "      <td>ISCGEM</td>\n",
       "      <td>Automatic</td>\n",
       "      <td>Norte</td>\n",
       "    </tr>\n",
       "    <tr>\n",
       "      <th>1</th>\n",
       "      <td>01/04/1965</td>\n",
       "      <td>11:29:49</td>\n",
       "      <td>1.863</td>\n",
       "      <td>127.352</td>\n",
       "      <td>Earthquake</td>\n",
       "      <td>80.0</td>\n",
       "      <td>NaN</td>\n",
       "      <td>NaN</td>\n",
       "      <td>5.8</td>\n",
       "      <td>MW</td>\n",
       "      <td>...</td>\n",
       "      <td>NaN</td>\n",
       "      <td>NaN</td>\n",
       "      <td>NaN</td>\n",
       "      <td>NaN</td>\n",
       "      <td>ISCGEM860737</td>\n",
       "      <td>ISCGEM</td>\n",
       "      <td>ISCGEM</td>\n",
       "      <td>ISCGEM</td>\n",
       "      <td>Automatic</td>\n",
       "      <td>Norte</td>\n",
       "    </tr>\n",
       "    <tr>\n",
       "      <th>2</th>\n",
       "      <td>01/05/1965</td>\n",
       "      <td>18:05:58</td>\n",
       "      <td>-20.579</td>\n",
       "      <td>-173.972</td>\n",
       "      <td>Earthquake</td>\n",
       "      <td>20.0</td>\n",
       "      <td>NaN</td>\n",
       "      <td>NaN</td>\n",
       "      <td>6.2</td>\n",
       "      <td>MW</td>\n",
       "      <td>...</td>\n",
       "      <td>NaN</td>\n",
       "      <td>NaN</td>\n",
       "      <td>NaN</td>\n",
       "      <td>NaN</td>\n",
       "      <td>ISCGEM860762</td>\n",
       "      <td>ISCGEM</td>\n",
       "      <td>ISCGEM</td>\n",
       "      <td>ISCGEM</td>\n",
       "      <td>Automatic</td>\n",
       "      <td>Sul</td>\n",
       "    </tr>\n",
       "    <tr>\n",
       "      <th>3</th>\n",
       "      <td>01/08/1965</td>\n",
       "      <td>18:49:43</td>\n",
       "      <td>-59.076</td>\n",
       "      <td>-23.557</td>\n",
       "      <td>Earthquake</td>\n",
       "      <td>15.0</td>\n",
       "      <td>NaN</td>\n",
       "      <td>NaN</td>\n",
       "      <td>5.8</td>\n",
       "      <td>MW</td>\n",
       "      <td>...</td>\n",
       "      <td>NaN</td>\n",
       "      <td>NaN</td>\n",
       "      <td>NaN</td>\n",
       "      <td>NaN</td>\n",
       "      <td>ISCGEM860856</td>\n",
       "      <td>ISCGEM</td>\n",
       "      <td>ISCGEM</td>\n",
       "      <td>ISCGEM</td>\n",
       "      <td>Automatic</td>\n",
       "      <td>Sul</td>\n",
       "    </tr>\n",
       "    <tr>\n",
       "      <th>4</th>\n",
       "      <td>01/09/1965</td>\n",
       "      <td>13:32:50</td>\n",
       "      <td>11.938</td>\n",
       "      <td>126.427</td>\n",
       "      <td>Earthquake</td>\n",
       "      <td>15.0</td>\n",
       "      <td>NaN</td>\n",
       "      <td>NaN</td>\n",
       "      <td>5.8</td>\n",
       "      <td>MW</td>\n",
       "      <td>...</td>\n",
       "      <td>NaN</td>\n",
       "      <td>NaN</td>\n",
       "      <td>NaN</td>\n",
       "      <td>NaN</td>\n",
       "      <td>ISCGEM860890</td>\n",
       "      <td>ISCGEM</td>\n",
       "      <td>ISCGEM</td>\n",
       "      <td>ISCGEM</td>\n",
       "      <td>Automatic</td>\n",
       "      <td>Norte</td>\n",
       "    </tr>\n",
       "  </tbody>\n",
       "</table>\n",
       "<p>5 rows × 22 columns</p>\n",
       "</div>"
      ],
      "text/plain": [
       "         Date      Time  Latitude  Longitude        Type  Depth  Depth Error  \\\n",
       "0  01/02/1965  13:44:18    19.246    145.616  Earthquake  131.6          NaN   \n",
       "1  01/04/1965  11:29:49     1.863    127.352  Earthquake   80.0          NaN   \n",
       "2  01/05/1965  18:05:58   -20.579   -173.972  Earthquake   20.0          NaN   \n",
       "3  01/08/1965  18:49:43   -59.076    -23.557  Earthquake   15.0          NaN   \n",
       "4  01/09/1965  13:32:50    11.938    126.427  Earthquake   15.0          NaN   \n",
       "\n",
       "   Depth Seismic Stations  Magnitude Magnitude Type    ...      Azimuthal Gap  \\\n",
       "0                     NaN        6.0             MW    ...                NaN   \n",
       "1                     NaN        5.8             MW    ...                NaN   \n",
       "2                     NaN        6.2             MW    ...                NaN   \n",
       "3                     NaN        5.8             MW    ...                NaN   \n",
       "4                     NaN        5.8             MW    ...                NaN   \n",
       "\n",
       "   Horizontal Distance  Horizontal Error  Root Mean Square            ID  \\\n",
       "0                  NaN               NaN               NaN  ISCGEM860706   \n",
       "1                  NaN               NaN               NaN  ISCGEM860737   \n",
       "2                  NaN               NaN               NaN  ISCGEM860762   \n",
       "3                  NaN               NaN               NaN  ISCGEM860856   \n",
       "4                  NaN               NaN               NaN  ISCGEM860890   \n",
       "\n",
       "   Source Location Source Magnitude Source     Status Hemisfério  \n",
       "0  ISCGEM          ISCGEM           ISCGEM  Automatic      Norte  \n",
       "1  ISCGEM          ISCGEM           ISCGEM  Automatic      Norte  \n",
       "2  ISCGEM          ISCGEM           ISCGEM  Automatic        Sul  \n",
       "3  ISCGEM          ISCGEM           ISCGEM  Automatic        Sul  \n",
       "4  ISCGEM          ISCGEM           ISCGEM  Automatic      Norte  \n",
       "\n",
       "[5 rows x 22 columns]"
      ]
     },
     "execution_count": 4,
     "metadata": {},
     "output_type": "execute_result"
    }
   ],
   "source": [
    "df.loc[(df['Latitude']<0), 'Hemisfério'] = 'Sul'\n",
    "df.loc[(df['Latitude']>0),'Hemisfério']='Norte'\n",
    "df.head()"
   ]
  },
  {
   "cell_type": "markdown",
   "metadata": {},
   "source": [
    "## Q2 - Fit e Histograma\n",
    "\n",
    "Faça o Histograma da Magnitude. Interprete."
   ]
  },
  {
   "cell_type": "code",
   "execution_count": 5,
   "metadata": {},
   "outputs": [
    {
     "data": {
      "image/png": "[encoded data removed]",
      "text/plain": [
       "<matplotlib.figure.Figure at 0x1c72e6d9780>"
      ]
     },
     "metadata": {},
     "output_type": "display_data"
    }
   ],
   "source": [
    "plt.hist(df.Magnitude, normed=True)\n",
    "plt.ylabel(\"Frequência\")\n",
    "plt.xlabel(\"Magnitude\")\n",
    "plt.title(\"Magnitudes\")\n",
    "plt.grid(1)"
   ]
  },
  {
   "cell_type": "markdown",
   "metadata": {},
   "source": [
    "Faça o fit de uma distribuição exponencial sobre os dados da Magnitude, achando os valores de **loc** e **scale**. Interprete loc e scale no caso da exponencial.\n",
    "Documentação: https://docs.scipy.org/doc/scipy/reference/generated/scipy.stats.expon.html"
   ]
  },
  {
   "cell_type": "code",
   "execution_count": 6,
   "metadata": {},
   "outputs": [
    {
     "name": "stdout",
     "output_type": "stream",
     "text": [
      "5.49999999967 0.382548648851\n"
     ]
    }
   ],
   "source": [
    "mu,sigma = stats.expon.fit(df['Magnitude'])\n",
    "print(mu, sigma)"
   ]
  },
  {
   "cell_type": "markdown",
   "metadata": {},
   "source": [
    "Refaça o Histograma plotando a fdp (função densidade de probabilidade) da exponencial com os parâmetros achados no fit em cima. Cuidado com o domínio utilizado. Interprete."
   ]
  },
  {
   "cell_type": "code",
   "execution_count": 7,
   "metadata": {},
   "outputs": [
    {
     "data": {
      "image/png": "[encoded data removed]",
      "text/plain": [
       "<matplotlib.figure.Figure at 0x1c72e941cf8>"
      ]
     },
     "metadata": {},
     "output_type": "display_data"
    }
   ],
   "source": [
    "plt.plot(sorted(df[\"Magnitude\"]),stats.expon.pdf(sorted(df['Magnitude']),loc=mu,scale = sigma))\n",
    "plt.hist(df.Magnitude, normed=True)\n",
    "plt.grid(1)\n"
   ]
  },
  {
   "cell_type": "markdown",
   "metadata": {},
   "source": [
    "## Q3 - Tabela cruzada\n",
    "\n",
    "Faça uma tabela de cruzamento das variáveis `Hemisfério` e `Type`\n",
    "\n",
    "Sua tabela deve ser <font color=red> normalizada</font>"
   ]
  },
  {
   "cell_type": "code",
   "execution_count": 8,
   "metadata": {},
   "outputs": [
    {
     "data": {
      "text/html": [
       "<div>\n",
       "<style>\n",
       "    .dataframe thead tr:only-child th {\n",
       "        text-align: right;\n",
       "    }\n",
       "\n",
       "    .dataframe thead th {\n",
       "        text-align: left;\n",
       "    }\n",
       "\n",
       "    .dataframe tbody tr th {\n",
       "        vertical-align: top;\n",
       "    }\n",
       "</style>\n",
       "<table border=\"1\" class=\"dataframe\">\n",
       "  <thead>\n",
       "    <tr style=\"text-align: right;\">\n",
       "      <th>Type</th>\n",
       "      <th>Earthquake</th>\n",
       "      <th>Explosion</th>\n",
       "      <th>Nuclear Explosion</th>\n",
       "      <th>Rock Burst</th>\n",
       "    </tr>\n",
       "    <tr>\n",
       "      <th>Hemisfério</th>\n",
       "      <th></th>\n",
       "      <th></th>\n",
       "      <th></th>\n",
       "      <th></th>\n",
       "    </tr>\n",
       "  </thead>\n",
       "  <tbody>\n",
       "    <tr>\n",
       "      <th>Norte</th>\n",
       "      <td>0.447140</td>\n",
       "      <td>0.000085</td>\n",
       "      <td>0.006279</td>\n",
       "      <td>0.000000</td>\n",
       "    </tr>\n",
       "    <tr>\n",
       "      <th>Sul</th>\n",
       "      <td>0.545171</td>\n",
       "      <td>0.000085</td>\n",
       "      <td>0.001196</td>\n",
       "      <td>0.000043</td>\n",
       "    </tr>\n",
       "  </tbody>\n",
       "</table>\n",
       "</div>"
      ],
      "text/plain": [
       "Type        Earthquake  Explosion  Nuclear Explosion  Rock Burst\n",
       "Hemisfério                                                      \n",
       "Norte         0.447140   0.000085           0.006279    0.000000\n",
       "Sul           0.545171   0.000085           0.001196    0.000043"
      ]
     },
     "execution_count": 8,
     "metadata": {},
     "output_type": "execute_result"
    }
   ],
   "source": [
    "tabela_h = pd.crosstab(df.Hemisfério, df.Type, normalize=True)\n",
    "tabela_h"
   ]
  },
  {
   "cell_type": "markdown",
   "metadata": {},
   "source": [
    "### Q3.1 - Qual a probabilidade de ocorrer um terremoto no hemisfério norte?"
   ]
  },
  {
   "cell_type": "markdown",
   "metadata": {},
   "source": [
    "Adicione na célula abaixo o cálculo:"
   ]
  },
  {
   "cell_type": "code",
   "execution_count": 31,
   "metadata": {},
   "outputs": [
    {
     "data": {
      "text/plain": [
       "0.45058539944903581"
      ]
     },
     "execution_count": 31,
     "metadata": {},
     "output_type": "execute_result"
    }
   ],
   "source": [
    "norte_ter = ((df.Hemisfério=='Norte')& (df.Type=='Earthquake')).value_counts()\n",
    "ter = (df.Type=='Earthquake').value_counts()\n",
    "\n",
    "prob_t = (norte_ter[1])/ter[1]\n",
    "\n",
    "prob_t\n",
    " "
   ]
  },
  {
   "cell_type": "markdown",
   "metadata": {},
   "source": [
    "Explique o seu raciocínio\n",
    "\n",
    "O exercício pede a probabilidade de ter ocorrido um terremoto no hemisfério Norte, portanto, para executar a conta é preciso encontrar a probabilidade de ter acontecido Norte e terremoto juntos e dividir pelo total de terremotos."
   ]
  },
  {
   "cell_type": "markdown",
   "metadata": {
    "collapsed": true
   },
   "source": []
  },
  {
   "cell_type": "markdown",
   "metadata": {},
   "source": [
    "### Q3.2 - Dado que aconteceu no Norte, qual a probabilidade de ele ter sido `Nuclear Explosion`? "
   ]
  },
  {
   "cell_type": "markdown",
   "metadata": {},
   "source": [
    "Calcule a resposta abaixo, ou explique como a encontrou"
   ]
  },
  {
   "cell_type": "markdown",
   "metadata": {},
   "source": [
    "Se for cálculo preencha a célula a seguir:"
   ]
  },
  {
   "cell_type": "code",
   "execution_count": 18,
   "metadata": {},
   "outputs": [
    {
     "data": {
      "text/plain": [
       "0.013845719129697655"
      ]
     },
     "execution_count": 18,
     "metadata": {},
     "output_type": "execute_result"
    }
   ],
   "source": [
    "norte_ne = ((df.Hemisfério=='Norte')& (df.Type=='Nuclear Explosion')).value_counts()\n",
    "ne = (df.Hemisfério=='Norte').value_counts()\n",
    "\n",
    "prob_ne = (norte_ne[1])/ne[1]\n",
    "\n",
    "prob_ne"
   ]
  },
  {
   "cell_type": "markdown",
   "metadata": {},
   "source": [
    "Se conseguir obter a resposta sem calcular, insira a resposta abaixo:\n",
    "\n",
    "* A probabilidade de ter sido `Nuclear Explosion` é ..."
   ]
  },
  {
   "cell_type": "code",
   "execution_count": null,
   "metadata": {
    "collapsed": true
   },
   "outputs": [],
   "source": []
  },
  {
   "cell_type": "markdown",
   "metadata": {},
   "source": [
    "## Q4 - Análise bivariada\n",
    "\n",
    "Faça o *plot* de dispersão (*scatter plot*) entre as variáveis `Magnitude Error`  e `Depth`"
   ]
  },
  {
   "cell_type": "code",
   "execution_count": 61,
   "metadata": {},
   "outputs": [
    {
     "data": {
      "text/plain": [
       "<matplotlib.text.Text at 0x1ad4f8a8240>"
      ]
     },
     "execution_count": 61,
     "metadata": {},
     "output_type": "execute_result"
    },
    {
     "data": {
      "image/png": "[encoded data removed]",
      "text/plain": [
       "<matplotlib.figure.Figure at 0x1ad4f956048>"
      ]
     },
     "metadata": {},
     "output_type": "display_data"
    }
   ],
   "source": [
    "fig = plt.figure(figsize=(8, 6))\n",
    "plt.scatter(df[\"Magnitude Error\"], df.Depth, c='red', alpha=0.8)\n",
    "plt.title(\"Magnitude Error por Depth\")\n",
    "plt.ylabel('depth')\n",
    "plt.xlabel('Magnitude')"
   ]
  },
  {
   "cell_type": "markdown",
   "metadata": {},
   "source": [
    "Calcule a correlação entre as variáveis `Magnitude Error`  e `Depth`"
   ]
  },
  {
   "cell_type": "code",
   "execution_count": 69,
   "metadata": {},
   "outputs": [
    {
     "data": {
      "text/plain": [
       "-0.076918438923387206"
      ]
     },
     "execution_count": 69,
     "metadata": {},
     "output_type": "execute_result"
    }
   ],
   "source": [
    "df[\"Magnitude Error\"].corr(df.Depth)"
   ]
  },
  {
   "cell_type": "markdown",
   "metadata": {},
   "source": [
    "Explique o que significa o valor da correlação calculada acima? "
   ]
  },
  {
   "cell_type": "markdown",
   "metadata": {
    "collapsed": true
   },
   "source": [
    "Eles são inversos devido ao sinal negativo e a variação entre os pontos é pequena, pois é possivel ver uma proximidade entre os pontos no gráfico."
   ]
  },
  {
   "cell_type": "markdown",
   "metadata": {},
   "source": [
    "## Q5 - Describe e boxplot\n",
    "\n",
    "Faça o `describe` e o *boxplot* da `Latitude` e da `Longitude`. Explique os valores"
   ]
  },
  {
   "cell_type": "code",
   "execution_count": 32,
   "metadata": {},
   "outputs": [
    {
     "data": {
      "text/plain": [
       "count    23412.000000\n",
       "mean         1.679033\n",
       "std         30.113183\n",
       "min        -77.080000\n",
       "25%        -18.653000\n",
       "50%         -3.568500\n",
       "75%         26.190750\n",
       "max         86.005000\n",
       "Name: Latitude, dtype: float64"
      ]
     },
     "execution_count": 32,
     "metadata": {},
     "output_type": "execute_result"
    }
   ],
   "source": [
    "df.Latitude.describe()\n"
   ]
  },
  {
   "cell_type": "code",
   "execution_count": 33,
   "metadata": {},
   "outputs": [
    {
     "data": {
      "text/plain": [
       "count    23412.000000\n",
       "mean        39.639961\n",
       "std        125.511959\n",
       "min       -179.997000\n",
       "25%        -76.349750\n",
       "50%        103.982000\n",
       "75%        145.026250\n",
       "max        179.998000\n",
       "Name: Longitude, dtype: float64"
      ]
     },
     "execution_count": 33,
     "metadata": {},
     "output_type": "execute_result"
    }
   ],
   "source": [
    "df.Longitude.describe()"
   ]
  },
  {
   "cell_type": "code",
   "execution_count": 34,
   "metadata": {},
   "outputs": [
    {
     "data": {
      "image/png": "[encoded data removed]",
      "text/plain": [
       "<matplotlib.figure.Figure at 0x1c72f741e48>"
      ]
     },
     "metadata": {},
     "output_type": "display_data"
    }
   ],
   "source": [
    "plot = df.Latitude.plot(kind='box',title='Latitude')#, color='red')"
   ]
  },
  {
   "cell_type": "markdown",
   "metadata": {},
   "source": [
    "Os valores se concentram entre 0 e -20 o que significa uma maior probabilidade no Sul."
   ]
  },
  {
   "cell_type": "code",
   "execution_count": 35,
   "metadata": {},
   "outputs": [
    {
     "data": {
      "image/png": "[encoded data removed]",
      "text/plain": [
       "<matplotlib.figure.Figure at 0x1c72f3d2400>"
      ]
     },
     "metadata": {},
     "output_type": "display_data"
    }
   ],
   "source": [
    "plot = df.Longitude.plot(kind='box',title='Longitude')#, color='red')"
   ]
  },
  {
   "cell_type": "markdown",
   "metadata": {},
   "source": [
    "A longitude se concentra entre 100 e 150, o que significa uma maior probabilidade no Leste."
   ]
  },
  {
   "cell_type": "markdown",
   "metadata": {},
   "source": [
    "## Q6 - Tirando conclusões com base nos dados\n",
    "\n",
    "Em um certo lugar já ocorreram abalos com *Magnitude Type* `MB` e *Type* `Nuclear Explosion`. \n",
    " \n",
    "Responda: \n",
    "    * É mais provável que tenha sido no norte ou no sul? \n",
    "    \n",
    "Assuma que os Magnitude Type e Type são independentes\n"
   ]
  },
  {
   "cell_type": "code",
   "execution_count": 30,
   "metadata": {},
   "outputs": [
    {
     "data": {
      "text/plain": [
       "Norte    0.828221\n",
       "Sul      0.171779\n",
       "Name: Hemisfério, dtype: float64"
      ]
     },
     "execution_count": 30,
     "metadata": {},
     "output_type": "execute_result"
    }
   ],
   "source": [
    "novo = df[(df['Magnitude Type']=='MB') & (df.Type=='Nuclear Explosion')]\n",
    "\n",
    "\n",
    "novo.Hemisfério.value_counts(True)"
   ]
  },
  {
   "cell_type": "markdown",
   "metadata": {},
   "source": [
    "Analisando os dados pode-se dizer que é mais provável que esses dois eventos aconteçam juntos no Norte."
   ]
  },
  {
   "cell_type": "code",
   "execution_count": null,
   "metadata": {
    "collapsed": true
   },
   "outputs": [],
   "source": []
  }
 ],
 "metadata": {
  "kernelspec": {
   "display_name": "Python 3",
   "language": "python",
   "name": "python3"
  },
  "language_info": {
   "codemirror_mode": {
    "name": "ipython",
    "version": 3
   },
   "file_extension": ".py",
   "mimetype": "text/x-python",
   "name": "python",
   "nbconvert_exporter": "python",
   "pygments_lexer": "ipython3",
   "version": "3.6.1"
  }
 },
 "nbformat": 4,
 "nbformat_minor": 1
}
